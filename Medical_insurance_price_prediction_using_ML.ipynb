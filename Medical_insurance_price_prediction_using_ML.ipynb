{
  "nbformat": 4,
  "nbformat_minor": 0,
  "metadata": {
    "colab": {
      "provenance": []
    },
    "kernelspec": {
      "name": "python3",
      "display_name": "Python 3"
    },
    "language_info": {
      "name": "python"
    }
  },
  "cells": [
    {
      "cell_type": "markdown",
      "source": [
        "Column Details:\n",
        "\n",
        "1. **age**: Age of the individual purchasing medical insurance.  \n",
        "2. **sex**: Gender of the individual (male or female).  \n",
        "3. **bmi**: Body Mass Index of the individual, a measure of body fat based on height and weight.  \n",
        "4. **children**: Number of dependent children covered by the insurance.  \n",
        "5. **smoker**: Smoking status of the individual (yes or no).  \n",
        "6. **region**: Geographic region of the individual (e.g., northwest, southeast).  \n",
        "7. **charges**: Total medical insurance premium charged to the individual."
      ],
      "metadata": {
        "id": "W6JhCp8LiuIS"
      }
    },
    {
      "cell_type": "code",
      "execution_count": null,
      "metadata": {
        "id": "6Z3IrwxCiV3s"
      },
      "outputs": [],
      "source": []
    }
  ]
}